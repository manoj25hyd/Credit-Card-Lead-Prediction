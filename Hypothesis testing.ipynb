{
 "metadata": {
  "orig_nbformat": 2,
  "kernelspec": {
   "name": "machinelearning1",
   "display_name": "machinelearning1",
   "language": "python"
  }
 },
 "nbformat": 4,
 "nbformat_minor": 2,
 "cells": [
  {
   "source": [
    "# Credit Card Lead Prediction"
   ],
   "cell_type": "markdown",
   "metadata": {}
  },
  {
   "cell_type": "code",
   "execution_count": 19,
   "metadata": {},
   "outputs": [],
   "source": [
    "# Import Libraries\n",
    "import pandas as pd\n",
    "import numpy as np\n",
    "from scipy.stats import chi2_contingency"
   ]
  },
  {
   "cell_type": "code",
   "execution_count": 3,
   "metadata": {},
   "outputs": [
    {
     "output_type": "execute_result",
     "data": {
      "text/plain": [
       "         ID  Gender  Age Region_Code     Occupation Channel_Code  Vintage  \\\n",
       "0  NNVBBKZB  Female   73       RG268          Other           X3       43   \n",
       "1  IDD62UNG  Female   30       RG277       Salaried           X1       32   \n",
       "2  HD3DSEMC  Female   56       RG268  Self_Employed           X3       26   \n",
       "3  BF3NC7KV    Male   34       RG270       Salaried           X1       19   \n",
       "4  TEASRWXV  Female   30       RG282       Salaried           X1       33   \n",
       "\n",
       "  Credit_Product  Avg_Account_Balance Is_Active  Is_Lead  \n",
       "0             No              1045696        No        0  \n",
       "1             No               581988        No        0  \n",
       "2             No              1484315       Yes        0  \n",
       "3             No               470454        No        0  \n",
       "4             No               886787        No        0  "
      ],
      "text/html": "<div>\n<style scoped>\n    .dataframe tbody tr th:only-of-type {\n        vertical-align: middle;\n    }\n\n    .dataframe tbody tr th {\n        vertical-align: top;\n    }\n\n    .dataframe thead th {\n        text-align: right;\n    }\n</style>\n<table border=\"1\" class=\"dataframe\">\n  <thead>\n    <tr style=\"text-align: right;\">\n      <th></th>\n      <th>ID</th>\n      <th>Gender</th>\n      <th>Age</th>\n      <th>Region_Code</th>\n      <th>Occupation</th>\n      <th>Channel_Code</th>\n      <th>Vintage</th>\n      <th>Credit_Product</th>\n      <th>Avg_Account_Balance</th>\n      <th>Is_Active</th>\n      <th>Is_Lead</th>\n    </tr>\n  </thead>\n  <tbody>\n    <tr>\n      <th>0</th>\n      <td>NNVBBKZB</td>\n      <td>Female</td>\n      <td>73</td>\n      <td>RG268</td>\n      <td>Other</td>\n      <td>X3</td>\n      <td>43</td>\n      <td>No</td>\n      <td>1045696</td>\n      <td>No</td>\n      <td>0</td>\n    </tr>\n    <tr>\n      <th>1</th>\n      <td>IDD62UNG</td>\n      <td>Female</td>\n      <td>30</td>\n      <td>RG277</td>\n      <td>Salaried</td>\n      <td>X1</td>\n      <td>32</td>\n      <td>No</td>\n      <td>581988</td>\n      <td>No</td>\n      <td>0</td>\n    </tr>\n    <tr>\n      <th>2</th>\n      <td>HD3DSEMC</td>\n      <td>Female</td>\n      <td>56</td>\n      <td>RG268</td>\n      <td>Self_Employed</td>\n      <td>X3</td>\n      <td>26</td>\n      <td>No</td>\n      <td>1484315</td>\n      <td>Yes</td>\n      <td>0</td>\n    </tr>\n    <tr>\n      <th>3</th>\n      <td>BF3NC7KV</td>\n      <td>Male</td>\n      <td>34</td>\n      <td>RG270</td>\n      <td>Salaried</td>\n      <td>X1</td>\n      <td>19</td>\n      <td>No</td>\n      <td>470454</td>\n      <td>No</td>\n      <td>0</td>\n    </tr>\n    <tr>\n      <th>4</th>\n      <td>TEASRWXV</td>\n      <td>Female</td>\n      <td>30</td>\n      <td>RG282</td>\n      <td>Salaried</td>\n      <td>X1</td>\n      <td>33</td>\n      <td>No</td>\n      <td>886787</td>\n      <td>No</td>\n      <td>0</td>\n    </tr>\n  </tbody>\n</table>\n</div>"
     },
     "metadata": {},
     "execution_count": 3
    }
   ],
   "source": [
    "# Import Dataset\n",
    "df = pd.read_csv(\"E:\\\\Pycharm Projects\\\\Machine_Learning\\\\GitHub\\\\Creditcard Lead Prediction\\\\train_s3TEQDk.csv\")\n",
    "\n",
    "# Print df\n",
    "df.head()"
   ]
  },
  {
   "cell_type": "code",
   "execution_count": 6,
   "metadata": {},
   "outputs": [
    {
     "output_type": "stream",
     "name": "stdout",
     "text": [
      "Number of Rows: 245725\nNumber of Columns: 11\n"
     ]
    }
   ],
   "source": [
    "# Print shape of df\n",
    "print(\"Number of Rows:\", df.shape[0])\n",
    "print(\"Number of Columns:\", df.shape[1])"
   ]
  },
  {
   "cell_type": "code",
   "execution_count": 7,
   "metadata": {},
   "outputs": [
    {
     "output_type": "execute_result",
     "data": {
      "text/plain": [
       "ID                     object\n",
       "Gender                 object\n",
       "Age                     int64\n",
       "Region_Code            object\n",
       "Occupation             object\n",
       "Channel_Code           object\n",
       "Vintage                 int64\n",
       "Credit_Product         object\n",
       "Avg_Account_Balance     int64\n",
       "Is_Active              object\n",
       "Is_Lead                 int64\n",
       "dtype: object"
      ]
     },
     "metadata": {},
     "execution_count": 7
    }
   ],
   "source": [
    "# Check the datatypes of df\n",
    "df.dtypes"
   ]
  },
  {
   "cell_type": "code",
   "execution_count": 8,
   "metadata": {},
   "outputs": [
    {
     "output_type": "execute_result",
     "data": {
      "text/plain": [
       "                 Age        Vintage  Avg_Account_Balance        Is_Lead\n",
       "count  245725.000000  245725.000000         2.457250e+05  245725.000000\n",
       "mean       43.856307      46.959141         1.128403e+06       0.237208\n",
       "std        14.828672      32.353136         8.529364e+05       0.425372\n",
       "min        23.000000       7.000000         2.079000e+04       0.000000\n",
       "25%        30.000000      20.000000         6.043100e+05       0.000000\n",
       "50%        43.000000      32.000000         8.946010e+05       0.000000\n",
       "75%        54.000000      73.000000         1.366666e+06       0.000000\n",
       "max        85.000000     135.000000         1.035201e+07       1.000000"
      ],
      "text/html": "<div>\n<style scoped>\n    .dataframe tbody tr th:only-of-type {\n        vertical-align: middle;\n    }\n\n    .dataframe tbody tr th {\n        vertical-align: top;\n    }\n\n    .dataframe thead th {\n        text-align: right;\n    }\n</style>\n<table border=\"1\" class=\"dataframe\">\n  <thead>\n    <tr style=\"text-align: right;\">\n      <th></th>\n      <th>Age</th>\n      <th>Vintage</th>\n      <th>Avg_Account_Balance</th>\n      <th>Is_Lead</th>\n    </tr>\n  </thead>\n  <tbody>\n    <tr>\n      <th>count</th>\n      <td>245725.000000</td>\n      <td>245725.000000</td>\n      <td>2.457250e+05</td>\n      <td>245725.000000</td>\n    </tr>\n    <tr>\n      <th>mean</th>\n      <td>43.856307</td>\n      <td>46.959141</td>\n      <td>1.128403e+06</td>\n      <td>0.237208</td>\n    </tr>\n    <tr>\n      <th>std</th>\n      <td>14.828672</td>\n      <td>32.353136</td>\n      <td>8.529364e+05</td>\n      <td>0.425372</td>\n    </tr>\n    <tr>\n      <th>min</th>\n      <td>23.000000</td>\n      <td>7.000000</td>\n      <td>2.079000e+04</td>\n      <td>0.000000</td>\n    </tr>\n    <tr>\n      <th>25%</th>\n      <td>30.000000</td>\n      <td>20.000000</td>\n      <td>6.043100e+05</td>\n      <td>0.000000</td>\n    </tr>\n    <tr>\n      <th>50%</th>\n      <td>43.000000</td>\n      <td>32.000000</td>\n      <td>8.946010e+05</td>\n      <td>0.000000</td>\n    </tr>\n    <tr>\n      <th>75%</th>\n      <td>54.000000</td>\n      <td>73.000000</td>\n      <td>1.366666e+06</td>\n      <td>0.000000</td>\n    </tr>\n    <tr>\n      <th>max</th>\n      <td>85.000000</td>\n      <td>135.000000</td>\n      <td>1.035201e+07</td>\n      <td>1.000000</td>\n    </tr>\n  </tbody>\n</table>\n</div>"
     },
     "metadata": {},
     "execution_count": 8
    }
   ],
   "source": [
    "# Print the Statiscical description of the data\n",
    "df.describe()"
   ]
  },
  {
   "cell_type": "code",
   "execution_count": 10,
   "metadata": {},
   "outputs": [
    {
     "output_type": "stream",
     "name": "stdout",
     "text": [
      "<class 'pandas.core.frame.DataFrame'>\nRangeIndex: 245725 entries, 0 to 245724\nData columns (total 11 columns):\n #   Column               Non-Null Count   Dtype \n---  ------               --------------   ----- \n 0   ID                   245725 non-null  object\n 1   Gender               245725 non-null  object\n 2   Age                  245725 non-null  int64 \n 3   Region_Code          245725 non-null  object\n 4   Occupation           245725 non-null  object\n 5   Channel_Code         245725 non-null  object\n 6   Vintage              245725 non-null  int64 \n 7   Credit_Product       216400 non-null  object\n 8   Avg_Account_Balance  245725 non-null  int64 \n 9   Is_Active            245725 non-null  object\n 10  Is_Lead              245725 non-null  int64 \ndtypes: int64(4), object(7)\nmemory usage: 20.6+ MB\n"
     ]
    }
   ],
   "source": [
    "# Information of Data\n",
    "df.info()"
   ]
  },
  {
   "cell_type": "code",
   "execution_count": 15,
   "metadata": {},
   "outputs": [
    {
     "output_type": "stream",
     "name": "stdout",
     "text": [
      "Unique categories in ID are:\n['NNVBBKZB' 'IDD62UNG' 'HD3DSEMC' ... 'GEHAUCWT' 'GE7V8SAH' 'BOCZSWLJ']\n\nUnique categories in Gender are:\n['Female' 'Male']\n\nUnique categories in Region_Code are:\n['RG268' 'RG277' 'RG270' 'RG282' 'RG261' 'RG265' 'RG283' 'RG254' 'RG269'\n 'RG257' 'RG279' 'RG280' 'RG252' 'RG284' 'RG259' 'RG281' 'RG258' 'RG266'\n 'RG260' 'RG274' 'RG256' 'RG275' 'RG273' 'RG267' 'RG272' 'RG251' 'RG262'\n 'RG264' 'RG278' 'RG276' 'RG263' 'RG250' 'RG255' 'RG253' 'RG271']\n\nUnique categories in Occupation are:\n['Other' 'Salaried' 'Self_Employed' 'Entrepreneur']\n\nUnique categories in Channel_Code are:\n['X3' 'X1' 'X2' 'X4']\n\nUnique categories in Credit_Product are:\n['No' nan 'Yes']\n\nUnique categories in Is_Active are:\n['No' 'Yes']\n\n"
     ]
    }
   ],
   "source": [
    "# See unique values in each categorical column\n",
    "for column in df.select_dtypes(include = [\"object\"]).columns:\n",
    "    print(\"Unique categories in \"+column+\" are:\")\n",
    "    print(df[column].unique())\n",
    "    print()"
   ]
  },
  {
   "source": [
    "## Hypothesis Testing"
   ],
   "cell_type": "markdown",
   "metadata": {}
  },
  {
   "source": [
    "### *Check Relation Between Gender and Is_lead (Using Chi-square test)* "
   ],
   "cell_type": "markdown",
   "metadata": {}
  },
  {
   "cell_type": "code",
   "execution_count": 18,
   "metadata": {},
   "outputs": [
    {
     "output_type": "stream",
     "name": "stdout",
     "text": [
      "Gender   Female   Male\nIs_Lead               \n0         88823  98614\n1         22705  35583\n"
     ]
    }
   ],
   "source": [
    "# Cross tab between \"Gender\" and \"Is_Lead\".\n",
    "Gender_Is_lead = pd.crosstab(df[\"Is_Lead\"], df[\"Gender\"])\n",
    "\n",
    "# Print Gender_Is_lead\n",
    "print(Gender_Is_lead)"
   ]
  },
  {
   "cell_type": "code",
   "execution_count": 21,
   "metadata": {},
   "outputs": [
    {
     "output_type": "stream",
     "name": "stdout",
     "text": [
      "Observed Statistic:  1275.9029016565435\np-value:  1.949380935011988e-279\n"
     ]
    }
   ],
   "source": [
    "# Apply Chi-Square test\n",
    "# H0: There is no significance relation between Gender and Is_Lead\n",
    "# H1: There is significance relation between Gender and Is_Lead\n",
    "# If p-value < 0.05, Reject H0\n",
    "stat, p, dof, expected = chi2_contingency(Gender_Is_lead)\n",
    "print(\"Observed Statistic: \", stat)\n",
    "print(\"p-value: \", p)"
   ]
  },
  {
   "source": [
    "*p-value < 0.05, So Reject H0*\n",
    "<br>*So, There is significance relation between Gender and Is_Lead*"
   ],
   "cell_type": "markdown",
   "metadata": {}
  },
  {
   "source": [
    "### *Check Relation Between Region_Code and Is_lead (Using Chi-square test)*"
   ],
   "cell_type": "markdown",
   "metadata": {}
  },
  {
   "cell_type": "code",
   "execution_count": 26,
   "metadata": {},
   "outputs": [
    {
     "output_type": "execute_result",
     "data": {
      "text/plain": [
       "Region_Code  RG250  RG251  RG252  RG253  RG254  RG255  RG256  RG257  RG258  \\\n",
       "Is_Lead                                                                      \n",
       "0             2103   4569   3694   1377  21127   1549   2446   4931   1521   \n",
       "1              393   1381    592    481   5713    469    401   1170    430   \n",
       "\n",
       "Region_Code  RG259  ...  RG275  RG276  RG277  RG278  RG279  RG280  RG281  \\\n",
       "Is_Lead             ...                                                    \n",
       "0             2085  ...   2702   1996   9851   1422   3079   9766   3979   \n",
       "1              501  ...    543    768   2975    400    897   3009   1114   \n",
       "\n",
       "Region_Code  RG282  RG283  RG284  \n",
       "Is_Lead                           \n",
       "0             4709  20531  13504  \n",
       "1             1120   8885   5816  \n",
       "\n",
       "[2 rows x 35 columns]"
      ],
      "text/html": "<div>\n<style scoped>\n    .dataframe tbody tr th:only-of-type {\n        vertical-align: middle;\n    }\n\n    .dataframe tbody tr th {\n        vertical-align: top;\n    }\n\n    .dataframe thead th {\n        text-align: right;\n    }\n</style>\n<table border=\"1\" class=\"dataframe\">\n  <thead>\n    <tr style=\"text-align: right;\">\n      <th>Region_Code</th>\n      <th>RG250</th>\n      <th>RG251</th>\n      <th>RG252</th>\n      <th>RG253</th>\n      <th>RG254</th>\n      <th>RG255</th>\n      <th>RG256</th>\n      <th>RG257</th>\n      <th>RG258</th>\n      <th>RG259</th>\n      <th>...</th>\n      <th>RG275</th>\n      <th>RG276</th>\n      <th>RG277</th>\n      <th>RG278</th>\n      <th>RG279</th>\n      <th>RG280</th>\n      <th>RG281</th>\n      <th>RG282</th>\n      <th>RG283</th>\n      <th>RG284</th>\n    </tr>\n    <tr>\n      <th>Is_Lead</th>\n      <th></th>\n      <th></th>\n      <th></th>\n      <th></th>\n      <th></th>\n      <th></th>\n      <th></th>\n      <th></th>\n      <th></th>\n      <th></th>\n      <th></th>\n      <th></th>\n      <th></th>\n      <th></th>\n      <th></th>\n      <th></th>\n      <th></th>\n      <th></th>\n      <th></th>\n      <th></th>\n      <th></th>\n    </tr>\n  </thead>\n  <tbody>\n    <tr>\n      <th>0</th>\n      <td>2103</td>\n      <td>4569</td>\n      <td>3694</td>\n      <td>1377</td>\n      <td>21127</td>\n      <td>1549</td>\n      <td>2446</td>\n      <td>4931</td>\n      <td>1521</td>\n      <td>2085</td>\n      <td>...</td>\n      <td>2702</td>\n      <td>1996</td>\n      <td>9851</td>\n      <td>1422</td>\n      <td>3079</td>\n      <td>9766</td>\n      <td>3979</td>\n      <td>4709</td>\n      <td>20531</td>\n      <td>13504</td>\n    </tr>\n    <tr>\n      <th>1</th>\n      <td>393</td>\n      <td>1381</td>\n      <td>592</td>\n      <td>481</td>\n      <td>5713</td>\n      <td>469</td>\n      <td>401</td>\n      <td>1170</td>\n      <td>430</td>\n      <td>501</td>\n      <td>...</td>\n      <td>543</td>\n      <td>768</td>\n      <td>2975</td>\n      <td>400</td>\n      <td>897</td>\n      <td>3009</td>\n      <td>1114</td>\n      <td>1120</td>\n      <td>8885</td>\n      <td>5816</td>\n    </tr>\n  </tbody>\n</table>\n<p>2 rows × 35 columns</p>\n</div>"
     },
     "metadata": {},
     "execution_count": 26
    }
   ],
   "source": [
    "# Cross tab between \"Gender\" and \"Is_Lead\".\n",
    "Region_Code_Is_lead = pd.crosstab(df[\"Is_Lead\"], df[\"Region_Code\"])\n",
    "\n",
    "# Print Gender_Is_lead\n",
    "Region_Code_Is_lead"
   ]
  },
  {
   "cell_type": "code",
   "execution_count": 24,
   "metadata": {},
   "outputs": [
    {
     "output_type": "stream",
     "name": "stdout",
     "text": [
      "Observed Statistic:  3913.669551933591\np-value:  0.0\n"
     ]
    }
   ],
   "source": [
    "# Apply Chi-Square test\n",
    "# H0: There is no significance relation between Region_Code and Is_Lead\n",
    "# H1: There is significance relation between Region_Code and Is_Lead\n",
    "# If p-value < 0.05, Reject H0\n",
    "stat, p, dof, expected = chi2_contingency(Region_Code_Is_lead)\n",
    "print(\"Observed Statistic: \", stat)\n",
    "print(\"p-value: \", p)"
   ]
  },
  {
   "source": [
    "*p-value < 0.05, Reject H0\n",
    "<br>So, There is significance relation between Region_Code and Is_Lead*"
   ],
   "cell_type": "markdown",
   "metadata": {}
  },
  {
   "source": [
    "### *Check Relation Between Occupation and Is_lead (Using Chi-square test)*"
   ],
   "cell_type": "markdown",
   "metadata": {}
  },
  {
   "cell_type": "code",
   "execution_count": 29,
   "metadata": {},
   "outputs": [
    {
     "output_type": "execute_result",
     "data": {
      "text/plain": [
       "Occupation  Entrepreneur  Other  Salaried  Self_Employed\n",
       "Is_Lead                                                 \n",
       "0                    905  52984     60503          73045\n",
       "1                   1762  17189     11496          27841"
      ],
      "text/html": "<div>\n<style scoped>\n    .dataframe tbody tr th:only-of-type {\n        vertical-align: middle;\n    }\n\n    .dataframe tbody tr th {\n        vertical-align: top;\n    }\n\n    .dataframe thead th {\n        text-align: right;\n    }\n</style>\n<table border=\"1\" class=\"dataframe\">\n  <thead>\n    <tr style=\"text-align: right;\">\n      <th>Occupation</th>\n      <th>Entrepreneur</th>\n      <th>Other</th>\n      <th>Salaried</th>\n      <th>Self_Employed</th>\n    </tr>\n    <tr>\n      <th>Is_Lead</th>\n      <th></th>\n      <th></th>\n      <th></th>\n      <th></th>\n    </tr>\n  </thead>\n  <tbody>\n    <tr>\n      <th>0</th>\n      <td>905</td>\n      <td>52984</td>\n      <td>60503</td>\n      <td>73045</td>\n    </tr>\n    <tr>\n      <th>1</th>\n      <td>1762</td>\n      <td>17189</td>\n      <td>11496</td>\n      <td>27841</td>\n    </tr>\n  </tbody>\n</table>\n</div>"
     },
     "metadata": {},
     "execution_count": 29
    }
   ],
   "source": [
    "# Cross tab between \"Occupation\" and \"Is_Lead\".\n",
    "Occupation_Is_lead = pd.crosstab(df[\"Is_Lead\"], df[\"Occupation\"])\n",
    "\n",
    "# Print Occupation_Is_lead\n",
    "Occupation_Is_lead"
   ]
  },
  {
   "cell_type": "code",
   "execution_count": 30,
   "metadata": {},
   "outputs": [
    {
     "output_type": "stream",
     "name": "stdout",
     "text": [
      "Observed Statistic:  5896.249668475439\np-value:  0.0\n"
     ]
    }
   ],
   "source": [
    "# Apply Chi-Square test\n",
    "# H0: There is no significance relation between Occupation and Is_Lead\n",
    "# H1: There is significance relation between Occupation and Is_Lead\n",
    "# If p-value < 0.05, Reject H0\n",
    "stat, p, dof, expected = chi2_contingency(Occupation_Is_lead)\n",
    "print(\"Observed Statistic: \", stat)\n",
    "print(\"p-value: \", p)"
   ]
  },
  {
   "source": [
    "*p-value < 0.05, Reject H0\n",
    "<br>So, There is significance relation between Occupation and Is_Lead*"
   ],
   "cell_type": "markdown",
   "metadata": {}
  },
  {
   "source": [
    "### *Check Relation Between Channel_Code and Is_lead (Using Chi-square test)* "
   ],
   "cell_type": "markdown",
   "metadata": {}
  },
  {
   "cell_type": "code",
   "execution_count": 32,
   "metadata": {},
   "outputs": [
    {
     "output_type": "execute_result",
     "data": {
      "text/plain": [
       "Channel_Code     X1     X2     X3    X4\n",
       "Is_Lead                                \n",
       "0             94236  45519  43493  4189\n",
       "1              9482  22207  25219  1380"
      ],
      "text/html": "<div>\n<style scoped>\n    .dataframe tbody tr th:only-of-type {\n        vertical-align: middle;\n    }\n\n    .dataframe tbody tr th {\n        vertical-align: top;\n    }\n\n    .dataframe thead th {\n        text-align: right;\n    }\n</style>\n<table border=\"1\" class=\"dataframe\">\n  <thead>\n    <tr style=\"text-align: right;\">\n      <th>Channel_Code</th>\n      <th>X1</th>\n      <th>X2</th>\n      <th>X3</th>\n      <th>X4</th>\n    </tr>\n    <tr>\n      <th>Is_Lead</th>\n      <th></th>\n      <th></th>\n      <th></th>\n      <th></th>\n    </tr>\n  </thead>\n  <tbody>\n    <tr>\n      <th>0</th>\n      <td>94236</td>\n      <td>45519</td>\n      <td>43493</td>\n      <td>4189</td>\n    </tr>\n    <tr>\n      <th>1</th>\n      <td>9482</td>\n      <td>22207</td>\n      <td>25219</td>\n      <td>1380</td>\n    </tr>\n  </tbody>\n</table>\n</div>"
     },
     "metadata": {},
     "execution_count": 32
    }
   ],
   "source": [
    "# Cross tab between \"Channel_Code\" and \"Is_Lead\".\n",
    "Channel_Code_Is_lead = pd.crosstab(df[\"Is_Lead\"], df[\"Channel_Code\"])\n",
    "\n",
    "# Print Channel_Code_Is_lead\n",
    "Channel_Code_Is_lead"
   ]
  },
  {
   "cell_type": "code",
   "execution_count": 33,
   "metadata": {},
   "outputs": [
    {
     "output_type": "stream",
     "name": "stdout",
     "text": [
      "Observed Statistic:  21664.453956739817\np-value:  0.0\n"
     ]
    }
   ],
   "source": [
    "# Apply Chi-Square test\n",
    "# H0: There is no significance relation between Channel_Code and Is_Lead\n",
    "# H1: There is significance relation between Channel_Code and Is_Lead\n",
    "# If p-value < 0.05, Reject H0\n",
    "stat, p, dof, expected = chi2_contingency(Channel_Code_Is_lead)\n",
    "print(\"Observed Statistic: \", stat)\n",
    "print(\"p-value: \", p)"
   ]
  },
  {
   "source": [
    "*p-value < 0.05, Reject H0\n",
    "<br>So, There is significance relation between Channel_Code and Is_Lead*"
   ],
   "cell_type": "markdown",
   "metadata": {}
  },
  {
   "source": [
    "### *Check Relation Between Credict_Product and Is_lead (Using Chi-square test)* "
   ],
   "cell_type": "markdown",
   "metadata": {}
  },
  {
   "cell_type": "code",
   "execution_count": 37,
   "metadata": {},
   "outputs": [
    {
     "output_type": "execute_result",
     "data": {
      "text/plain": [
       "Credit_Product      No    Yes\n",
       "Is_Lead                      \n",
       "0               133734  49353\n",
       "1                10623  22690"
      ],
      "text/html": "<div>\n<style scoped>\n    .dataframe tbody tr th:only-of-type {\n        vertical-align: middle;\n    }\n\n    .dataframe tbody tr th {\n        vertical-align: top;\n    }\n\n    .dataframe thead th {\n        text-align: right;\n    }\n</style>\n<table border=\"1\" class=\"dataframe\">\n  <thead>\n    <tr style=\"text-align: right;\">\n      <th>Credit_Product</th>\n      <th>No</th>\n      <th>Yes</th>\n    </tr>\n    <tr>\n      <th>Is_Lead</th>\n      <th></th>\n      <th></th>\n    </tr>\n  </thead>\n  <tbody>\n    <tr>\n      <th>0</th>\n      <td>133734</td>\n      <td>49353</td>\n    </tr>\n    <tr>\n      <th>1</th>\n      <td>10623</td>\n      <td>22690</td>\n    </tr>\n  </tbody>\n</table>\n</div>"
     },
     "metadata": {},
     "execution_count": 37
    }
   ],
   "source": [
    "# Cross tab between \"Credit_Product\" and \"Is_Lead\".\n",
    "Credit_Product_Is_lead = pd.crosstab(df[\"Is_Lead\"], df[\"Credit_Product\"])\n",
    "\n",
    "# Print Credit_Product_Is_lead\n",
    "Credit_Product_Is_lead"
   ]
  },
  {
   "cell_type": "code",
   "execution_count": 38,
   "metadata": {},
   "outputs": [
    {
     "output_type": "stream",
     "name": "stdout",
     "text": [
      "Observed Statistic:  21494.00881079159\np-value:  0.0\n"
     ]
    }
   ],
   "source": [
    "# Apply Chi-Square test\n",
    "# H0: There is no significance relation between Credit_Product and Is_Lead\n",
    "# H1: There is significance relation between Credit_Product and Is_Lead\n",
    "# If p-value < 0.05, Reject H0\n",
    "stat, p, dof, expected = chi2_contingency(Credit_Product_Is_lead)\n",
    "print(\"Observed Statistic: \", stat)\n",
    "print(\"p-value: \", p)"
   ]
  },
  {
   "source": [
    "*p-value < 0.05, Reject H0\n",
    "<br>So, There is significance relation between Credit_Product and Is_Lead*"
   ],
   "cell_type": "markdown",
   "metadata": {}
  },
  {
   "source": [
    "### *Check Relation Between Is_Active and Is_lead (Using Chi-square test)* "
   ],
   "cell_type": "markdown",
   "metadata": {}
  },
  {
   "cell_type": "code",
   "execution_count": 39,
   "metadata": {},
   "outputs": [
    {
     "output_type": "execute_result",
     "data": {
      "text/plain": [
       "Is_Active      No    Yes\n",
       "Is_Lead                 \n",
       "0          119007  68430\n",
       "1           31283  27005"
      ],
      "text/html": "<div>\n<style scoped>\n    .dataframe tbody tr th:only-of-type {\n        vertical-align: middle;\n    }\n\n    .dataframe tbody tr th {\n        vertical-align: top;\n    }\n\n    .dataframe thead th {\n        text-align: right;\n    }\n</style>\n<table border=\"1\" class=\"dataframe\">\n  <thead>\n    <tr style=\"text-align: right;\">\n      <th>Is_Active</th>\n      <th>No</th>\n      <th>Yes</th>\n    </tr>\n    <tr>\n      <th>Is_Lead</th>\n      <th></th>\n      <th></th>\n    </tr>\n  </thead>\n  <tbody>\n    <tr>\n      <th>0</th>\n      <td>119007</td>\n      <td>68430</td>\n    </tr>\n    <tr>\n      <th>1</th>\n      <td>31283</td>\n      <td>27005</td>\n    </tr>\n  </tbody>\n</table>\n</div>"
     },
     "metadata": {},
     "execution_count": 39
    }
   ],
   "source": [
    "# Cross tab between \"Is_Active\" and \"Is_Lead\".\n",
    "Is_Active_Is_lead = pd.crosstab(df[\"Is_Lead\"], df[\"Is_Active\"])\n",
    "\n",
    "# Print Is_Active_Is_lead\n",
    "Is_Active_Is_lead"
   ]
  },
  {
   "cell_type": "code",
   "execution_count": 40,
   "metadata": {},
   "outputs": [
    {
     "output_type": "stream",
     "name": "stdout",
     "text": [
      "Observed Statistic:  1805.2967681025368\np-value:  0.0\n"
     ]
    }
   ],
   "source": [
    "# Apply Chi-Square test\n",
    "# H0: There is no significance relation between Is_Active and Is_Lead\n",
    "# H1: There is significance relation between Is_Active and Is_Lead\n",
    "# If p-value < 0.05, Reject H0\n",
    "stat, p, dof, expected = chi2_contingency(Is_Active_Is_lead)\n",
    "print(\"Observed Statistic: \", stat)\n",
    "print(\"p-value: \", p)"
   ]
  },
  {
   "source": [
    "*p-value < 0.05, Reject H0\n",
    "<br>So, There is significance relation between Is_Active and Is_Lead*"
   ],
   "cell_type": "markdown",
   "metadata": {}
  },
  {
   "source": [
    "### *Check Relation Between Age and Is_lead (Using 2-Sample ttest)*"
   ],
   "cell_type": "markdown",
   "metadata": {}
  }
 ]
}